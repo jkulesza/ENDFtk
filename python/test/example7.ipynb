{
 "cells": [
  {
   "cell_type": "markdown",
   "metadata": {},
   "source": [
    "## Example 7: Some MF 4,5 Capabilities"
   ]
  },
  {
   "cell_type": "markdown",
   "metadata": {},
   "source": [
    "Start with same import statements as before."
   ]
  },
  {
   "cell_type": "code",
   "execution_count": 1,
   "metadata": {},
   "outputs": [],
   "source": [
    "import ENDFtk\n",
    "import patch"
   ]
  },
  {
   "cell_type": "markdown",
   "metadata": {},
   "source": [
    "As in previous examples, read ENDF tape in Python, create a syntax tree in ENDFtk."
   ]
  },
  {
   "cell_type": "code",
   "execution_count": 2,
   "metadata": {},
   "outputs": [],
   "source": [
    "with open('resources/n-li6.endf', 'r') as f:\n",
    "    tape = ENDFtk.Tape(f.read())"
   ]
  },
  {
   "cell_type": "markdown",
   "metadata": {},
   "source": [
    "Parse MF 4,5 MT 24.  This uses newly added syntax to simplify the parse command.  Print out the distribution type and the energy limits.  Of course, in MF 4, each energy point has its own distribution -- only one is printed here.  For MF 5, the energy range is associated with the partial probability $p(E)$ for a given distribution.  For this example, there is only one distribution, but some sections in some evaluated data files have additional distributions."
   ]
  },
  {
   "cell_type": "code",
   "execution_count": 3,
   "metadata": {},
   "outputs": [
    {
     "name": "stdout",
     "output_type": "stream",
     "text": [
      "<class 'ENDFtk.MF4.TabulatedDistribution'>\n",
      "MF 4, MT 24 // min: 4.3180e+06, max: 2.0000e+07\n",
      "\n",
      "<class 'ENDFtk.MF5.TabulatedSpectrum'>\n",
      "MF 5, MT 24 // min: 4.3180e+06, max: 2.0000e+07\n"
     ]
    }
   ],
   "source": [
    "mf4mt24 = tape.parse(mf=4, mt=24)\n",
    "print( type(mf4mt24.distributions[0]) )\n",
    "energies = mf4mt24.energies\n",
    "print( 'MF 4, MT 24 // min: %10.4e, max: %10.4e\\n'\n",
    "       '' % (min(energies), max(energies)) )\n",
    "\n",
    "mf5mt24 = tape.parse(mf=5, mt=24)\n",
    "for dist in mf5mt24.distributions:\n",
    "    print( type(dist.distribution) )\n",
    "    energies = dist.probability.energies\n",
    "    print( 'MF 5, MT 24 // min: %10.4e, max: %10.4e'\n",
    "           '' % (min(energies), max(energies)) )"
   ]
  },
  {
   "cell_type": "markdown",
   "metadata": {},
   "source": [
    "A recent addition to ENDFtk is support for `len` in a `syntaxTree.Section`.  This returns the number of lines in the section of the evaluated data file.  Note that this does not work for a parsed section, and simplified notation for the unparsed section has not yet been implemented."
   ]
  },
  {
   "cell_type": "code",
   "execution_count": 6,
   "metadata": {},
   "outputs": [
    {
     "name": "stdout",
     "output_type": "stream",
     "text": [
      "File 1\n",
      "    Section 451: 487 lines\n",
      "File 2\n",
      "    Section 151: 6 lines\n",
      "File 3\n",
      "    Section 1: 100 lines\n",
      "    Section 2: 96 lines\n",
      "    Section 4: 48 lines\n",
      "    Section 24: 26 lines\n",
      "    Section 51: 48 lines\n",
      "    Section 52: 45 lines\n",
      "    Section 53: 44 lines\n",
      "    Section 54: 42 lines\n",
      "    Section 55: 39 lines\n",
      "    Section 56: 37 lines\n",
      "    Section 57: 36 lines\n",
      "    Section 58: 32 lines\n",
      "    Section 59: 28 lines\n",
      "    Section 60: 26 lines\n",
      "    Section 61: 25 lines\n",
      "    Section 62: 23 lines\n",
      "    Section 63: 22 lines\n",
      "    Section 64: 21 lines\n",
      "    Section 65: 20 lines\n",
      "    Section 66: 19 lines\n",
      "    Section 67: 18 lines\n",
      "    Section 68: 17 lines\n",
      "    Section 69: 16 lines\n",
      "    Section 70: 15 lines\n",
      "    Section 71: 14 lines\n",
      "    Section 72: 14 lines\n",
      "    Section 73: 13 lines\n",
      "    Section 74: 12 lines\n",
      "    Section 75: 11 lines\n",
      "    Section 76: 11 lines\n",
      "    Section 77: 10 lines\n",
      "    Section 78: 9 lines\n",
      "    Section 79: 9 lines\n",
      "    Section 80: 8 lines\n",
      "    Section 81: 7 lines\n",
      "    Section 102: 7 lines\n",
      "    Section 103: 31 lines\n",
      "    Section 105: 74 lines\n",
      "File 4\n",
      "    Section 2: 438 lines\n",
      "    Section 24: 186 lines\n",
      "    Section 51: 10 lines\n",
      "    Section 52: 10 lines\n",
      "    Section 53: 40 lines\n",
      "    Section 54: 10 lines\n",
      "    Section 55: 10 lines\n",
      "    Section 56: 10 lines\n",
      "    Section 57: 10 lines\n",
      "    Section 58: 10 lines\n",
      "    Section 59: 10 lines\n",
      "    Section 60: 10 lines\n",
      "    Section 61: 10 lines\n",
      "    Section 62: 10 lines\n",
      "    Section 63: 10 lines\n",
      "    Section 64: 10 lines\n",
      "    Section 65: 10 lines\n",
      "    Section 66: 10 lines\n",
      "    Section 67: 10 lines\n",
      "    Section 68: 10 lines\n",
      "    Section 69: 10 lines\n",
      "    Section 70: 10 lines\n",
      "    Section 71: 10 lines\n",
      "    Section 72: 10 lines\n",
      "    Section 73: 10 lines\n",
      "    Section 74: 10 lines\n",
      "    Section 75: 10 lines\n",
      "    Section 76: 10 lines\n",
      "    Section 77: 10 lines\n",
      "    Section 78: 10 lines\n",
      "    Section 79: 10 lines\n",
      "    Section 80: 10 lines\n",
      "    Section 81: 10 lines\n",
      "File 5\n",
      "    Section 24: 268 lines\n",
      "File 6\n",
      "    Section 105: 301 lines\n",
      "File 12\n",
      "    Section 57: 6 lines\n",
      "    Section 102: 15 lines\n",
      "File 14\n",
      "    Section 57: 3 lines\n",
      "    Section 102: 3 lines\n",
      "File 33\n",
      "    Section 2: 5253 lines\n",
      "    Section 105: 1770 lines\n"
     ]
    }
   ],
   "source": [
    "for file in tape.materials[0].files:\n",
    "    print( 'File %i' % file.fileNumber )\n",
    "    for section in file.sections: \n",
    "        print( '    Section %i: %i lines' % (section.sectionNumber, len(section)) )"
   ]
  }
 ],
 "metadata": {
  "kernelspec": {
   "display_name": "Python 3",
   "language": "python",
   "name": "python3"
  },
  "language_info": {
   "codemirror_mode": {
    "name": "ipython",
    "version": 3
   },
   "file_extension": ".py",
   "mimetype": "text/x-python",
   "name": "python",
   "nbconvert_exporter": "python",
   "pygments_lexer": "ipython3",
   "version": "3.7.5"
  }
 },
 "nbformat": 4,
 "nbformat_minor": 2
}
