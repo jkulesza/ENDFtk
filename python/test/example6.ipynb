{
 "cells": [
  {
   "cell_type": "markdown",
   "metadata": {},
   "source": [
    "## Example 6: Some MF 6 Capabilities"
   ]
  },
  {
   "cell_type": "markdown",
   "metadata": {},
   "source": [
    "Start with same import statements as before."
   ]
  },
  {
   "cell_type": "code",
   "execution_count": 4,
   "metadata": {},
   "outputs": [],
   "source": [
    "import ENDFtk\n",
    "import patch"
   ]
  },
  {
   "cell_type": "markdown",
   "metadata": {},
   "source": [
    "As in previous examples, read ENDF tape in Python, create a syntax tree in ENDFtk and descend into the tree to MF6."
   ]
  },
  {
   "cell_type": "code",
   "execution_count": 7,
   "metadata": {},
   "outputs": [],
   "source": [
    "with open('resources/n-u235.endf', 'r') as f:\n",
    "    tape = ENDFtk.Tape(f.read())\n",
    "file6 = tape.materials[0].MF(6)"
   ]
  },
  {
   "cell_type": "markdown",
   "metadata": {},
   "source": [
    "Loop over each section in File 6, parse the section, and check the law and then the energy limits."
   ]
  },
  {
   "cell_type": "code",
   "execution_count": 8,
   "metadata": {},
   "outputs": [
    {
     "name": "stdout",
     "output_type": "stream",
     "text": [
      "MT: 5, LAW: 1\n",
      "      1.0000e-05  3.0000e+07\n",
      "MT: 16, LAW: 1\n",
      "      5.3207e+06  3.0000e+07\n",
      "MT: 17, LAW: 1\n",
      "      1.2193e+07  3.0000e+07\n",
      "MT: 18, LAW: 0\n",
      "MT: 91, LAW: 1\n",
      "      4.3560e+05  3.0000e+07\n",
      "MT: 102, LAW: 1\n",
      "      1.0000e-05  3.0000e+07\n",
      "MT: 649, LAW: 1\n",
      "      8.2352e+05  3.0000e+07\n"
     ]
    }
   ],
   "source": [
    "for section in file6.sections:\n",
    "    # parse section\n",
    "    parsec = section.parse(6)\n",
    "    law = parsec.products[0].LAW\n",
    "    print( 'MT: %i, LAW: %i' % (section.sectionNumber, law) )\n",
    "    \n",
    "    # skip incompatible laws\n",
    "    if law not in [1, 2, 5, 7]:\n",
    "        continue\n",
    "    \n",
    "    # print min/max energies\n",
    "    energies = parsec.products[0].distribution.energies\n",
    "    print( '    %12.4e%12.4e' % (min(energies), max(energies)) )"
   ]
  },
  {
   "cell_type": "code",
   "execution_count": null,
   "metadata": {},
   "outputs": [],
   "source": []
  }
 ],
 "metadata": {
  "kernelspec": {
   "display_name": "Python 3",
   "language": "python",
   "name": "python3"
  },
  "language_info": {
   "codemirror_mode": {
    "name": "ipython",
    "version": 3
   },
   "file_extension": ".py",
   "mimetype": "text/x-python",
   "name": "python",
   "nbconvert_exporter": "python",
   "pygments_lexer": "ipython3",
   "version": "3.7.5"
  }
 },
 "nbformat": 4,
 "nbformat_minor": 2
}
