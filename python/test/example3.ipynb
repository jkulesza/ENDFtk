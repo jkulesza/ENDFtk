{
 "cells": [
  {
   "cell_type": "markdown",
   "metadata": {},
   "source": [
    "## Example 3: Simple ENDF Format Check"
   ]
  },
  {
   "cell_type": "markdown",
   "metadata": {},
   "source": [
    "Start with same import statements as before."
   ]
  },
  {
   "cell_type": "code",
   "execution_count": 1,
   "metadata": {},
   "outputs": [],
   "source": [
    "import ENDFtk\n",
    "import patch"
   ]
  },
  {
   "cell_type": "markdown",
   "metadata": {},
   "source": [
    "As in previous examples, read ENDF tape in Python, create a syntax tree in ENDFtk, and then parse File 3."
   ]
  },
  {
   "cell_type": "code",
   "execution_count": 2,
   "metadata": {},
   "outputs": [],
   "source": [
    "with open('tape20', 'r') as f:\n",
    "    tape = ENDFtk.Tape(f.read())\n",
    "file3 = tape.materials[0].MF(3).parse()"
   ]
  },
  {
   "cell_type": "markdown",
   "metadata": {},
   "source": [
    "Loop over each section in File 3, checking the maximum energy.  Raise an exception if an inconsistent max energy is found.  This executes successfully for `'tape20'` but will raise the exception for `'badtape'`."
   ]
  },
  {
   "cell_type": "code",
   "execution_count": 3,
   "metadata": {},
   "outputs": [
    {
     "name": "stdout",
     "output_type": "stream",
     "text": [
      "All sections have maximum energy 2.000000e+07 eV\n"
     ]
    }
   ],
   "source": [
    "max_energy = None\n",
    "for section in file3.sections:\n",
    "    if not max_energy:\n",
    "        max_energy = section.energies[-1]\n",
    "    if max_energy != section.energies[-1]:\n",
    "        raise Exception('MT%i has unexpected maximum energy: %e eV\\n'\n",
    "                        'Previously encountered maximum energy: %e eV'\n",
    "                        '' % (section.MT, section.energies[-1], max_energy))\n",
    "print('All sections have maximum energy %e eV' % max_energy)"
   ]
  }
 ],
 "metadata": {
  "kernelspec": {
   "display_name": "Python 3",
   "language": "python",
   "name": "python3"
  },
  "language_info": {
   "codemirror_mode": {
    "name": "ipython",
    "version": 3
   },
   "file_extension": ".py",
   "mimetype": "text/x-python",
   "name": "python",
   "nbconvert_exporter": "python",
   "pygments_lexer": "ipython3",
   "version": "3.7.5"
  }
 },
 "nbformat": 4,
 "nbformat_minor": 2
}
