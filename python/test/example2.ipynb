{
 "cells": [
  {
   "cell_type": "markdown",
   "metadata": {},
   "source": [
    "## Example 2: Perturb File 3"
   ]
  },
  {
   "cell_type": "markdown",
   "metadata": {},
   "source": [
    "Perform a perturbation on a file 3 section and create a new ENDF tape.  Adapted from Wim's `perty` C++ application.  This approach could be used in sensitivity analysis."
   ]
  },
  {
   "cell_type": "code",
   "execution_count": 1,
   "metadata": {},
   "outputs": [],
   "source": [
    "import numpy as np\n",
    "import matplotlib.pyplot as plt\n",
    "\n",
    "import ENDFtk\n",
    "import patch"
   ]
  },
  {
   "cell_type": "markdown",
   "metadata": {},
   "source": [
    "Define a pure Python perturbation function to be used here."
   ]
  },
  {
   "cell_type": "code",
   "execution_count": 2,
   "metadata": {},
   "outputs": [],
   "source": [
    "def perturb(x_in, y_in, start, stop, mult):\n",
    "\n",
    "    # initialize output\n",
    "    x_out = x_in\n",
    "    y_out = y_in\n",
    "\n",
    "    # add point if needed to start, stop\n",
    "    target = (start, stop)\n",
    "    idx = [0, 0]\n",
    "    for i in range(2):\n",
    "        idx[i] = np.searchsorted(x_out, target[i])\n",
    "        if idx[i] < len(x_out) and \\\n",
    "                x_out[idx[i]] != target[i] and \\\n",
    "                target[i] > x_out[0] and \\\n",
    "                target[i] < x_out[-1]:\n",
    "\n",
    "            interp = y_out[idx[i]-1] + ( (target[i]-x_out[idx[i]-1]) *\n",
    "                                         (y_out[idx[i]]-y_out[idx[i]-1]) /\n",
    "                                         (x_out[idx[i]]-x_out[idx[i]-1]) )\n",
    "\n",
    "            x_out = np.insert(x_out, idx[i], target[i])\n",
    "            y_out = np.insert(y_out, idx[i], interp)\n",
    "\n",
    "    # modify values\n",
    "    y_out[idx[0]:idx[1]] *= mult\n",
    "\n",
    "    # return\n",
    "    return x_out, y_out"
   ]
  },
  {
   "cell_type": "markdown",
   "metadata": {},
   "source": [
    "As in Example 1, load in reconstructed U-235 tape and parse."
   ]
  },
  {
   "cell_type": "code",
   "execution_count": 3,
   "metadata": {},
   "outputs": [],
   "source": [
    "with open('tape22', 'r') as f:\n",
    "    tape = ENDFtk.Tape(f.read())\n",
    "initial = tape.materials[0].MF(3).MT(18).parse(3)"
   ]
  },
  {
   "cell_type": "markdown",
   "metadata": {},
   "source": [
    "Perturb cross sections.  The perturbations used here are absurd, but that makes visualization easier!"
   ]
  },
  {
   "cell_type": "code",
   "execution_count": 5,
   "metadata": {},
   "outputs": [],
   "source": [
    "energies = np.array(initial.energies)\n",
    "cross_sections = np.array(initial.crossSections)\n",
    "energies, cross_sections = perturb(energies, cross_sections,\n",
    "                                   0.0, 0.1, 2)\n",
    "energies, cross_sections = perturb(energies, cross_sections,\n",
    "                                   1.0e4, 1.0e5, 2)\n",
    "energies, cross_sections = perturb(energies, cross_sections,\n",
    "                                   1.0e6, 1.0e10, 0.5)"
   ]
  },
  {
   "cell_type": "markdown",
   "metadata": {},
   "source": [
    "Create a new section using the perturbed cross sections but maintaining the other parameters."
   ]
  },
  {
   "cell_type": "code",
   "execution_count": 6,
   "metadata": {},
   "outputs": [],
   "source": [
    "perturbed = ENDFtk.Type(initial.MT, initial.ZA, initial.AWR,\n",
    "                        initial.QM, initial.QI, initial.LR,\n",
    "                        [len(energies)], [2],\n",
    "                        energies,\n",
    "                        cross_sections)"
   ]
  },
  {
   "cell_type": "markdown",
   "metadata": {},
   "source": [
    "Visualize these changes.  Resonance range is same in both cases, perturbations seen at thermal energies, in the URR, and at high energies -- as expected."
   ]
  },
  {
   "cell_type": "code",
   "execution_count": 7,
   "metadata": {},
   "outputs": [
    {
     "data": {
      "text/plain": [
       "Text(0.5, 1.0, 'U-235 Fission Perturbation')"
      ]
     },
     "execution_count": 7,
     "metadata": {},
     "output_type": "execute_result"
    },
    {
     "data": {
      "image/png": "[encoded data removed]",
      "text/plain": [
       "<Figure size 432x288 with 1 Axes>"
      ]
     },
     "metadata": {
      "needs_background": "light"
     },
     "output_type": "display_data"
    }
   ],
   "source": [
    "# plot the data\n",
    "plt.plot(initial.energies, initial.crossSections, label='initial')\n",
    "plt.plot(perturbed.energies, perturbed.crossSections, label='perturbed')\n",
    "\n",
    "# adjust appearance of plot\n",
    "plt.xscale('log')\n",
    "plt.yscale('log')\n",
    "plt.xlabel('Energy [eV]')\n",
    "plt.ylabel('Cross Section [b]')\n",
    "plt.legend(loc=1)\n",
    "plt.title('U-235 Fission Perturbation')"
   ]
  },
  {
   "cell_type": "markdown",
   "metadata": {},
   "source": [
    "Create new ENDF tape including this perturbation."
   ]
  },
  {
   "cell_type": "code",
   "execution_count": 8,
   "metadata": {},
   "outputs": [],
   "source": [
    "# new File 3\n",
    "file3_orig = tape.materials[0].MF(3).parse()\n",
    "sections = file3_orig.sections\n",
    "for i, section in enumerate(sections):\n",
    "    if section.MT == 18:\n",
    "        break\n",
    "sections[i] = perturbed\n",
    "file3 = ENDFtk.File3(sections)"
   ]
  },
  {
   "cell_type": "code",
   "execution_count": 9,
   "metadata": {},
   "outputs": [],
   "source": [
    "# write new ENDF tape\n",
    "with open('result.txt', 'w') as result:\n",
    "    result.write(ENDFtk.TPID(\"perturbed U-235 RENDF\", 1).to_string())\n",
    "    for file in tape.materials[0].files:\n",
    "        if file.fileNumber != 3:\n",
    "            result.write(file.buffer)\n",
    "        else:\n",
    "            result.write(file3.to_string(9228))\n",
    "    result.write(ENDFtk.MEND().to_string())\n",
    "    result.write(ENDFtk.TEND().to_string())"
   ]
  },
  {
   "cell_type": "code",
   "execution_count": null,
   "metadata": {},
   "outputs": [],
   "source": []
  }
 ],
 "metadata": {
  "kernelspec": {
   "display_name": "Python 3",
   "language": "python",
   "name": "python3"
  },
  "language_info": {
   "codemirror_mode": {
    "name": "ipython",
    "version": 3
   },
   "file_extension": ".py",
   "mimetype": "text/x-python",
   "name": "python",
   "nbconvert_exporter": "python",
   "pygments_lexer": "ipython3",
   "version": "3.7.5"
  }
 },
 "nbformat": 4,
 "nbformat_minor": 2
}
