{
 "cells": [
  {
   "cell_type": "markdown",
   "metadata": {},
   "source": [
    "## Example 4: Find Evaluations with Covariance Data"
   ]
  },
  {
   "cell_type": "markdown",
   "metadata": {},
   "source": [
    "Import ENDFtk along with other useful Python packages."
   ]
  },
  {
   "cell_type": "code",
   "execution_count": 5,
   "metadata": {},
   "outputs": [],
   "source": [
    "import os\n",
    "import random\n",
    "\n",
    "import ENDFtk\n",
    "import patch"
   ]
  },
  {
   "cell_type": "markdown",
   "metadata": {},
   "source": [
    "Loop over all of the evaluation files in ENDF/B-VIII.0.  Read them into a ENDFtk syntax tree and query for presence of covariance sections."
   ]
  },
  {
   "cell_type": "code",
   "execution_count": 2,
   "metadata": {},
   "outputs": [],
   "source": [
    "# setup\n",
    "base_path = '/Users/ngibson/work/scratch/ENDF8'\n",
    "results = []\n",
    "\n",
    "for fname in sorted(os.listdir(base_path)):\n",
    "    # skip over non-ENDF files in directory\n",
    "    if not fname.endswith('.endf'):\n",
    "        continue\n",
    "    \n",
    "    # open/read ENDF file\n",
    "    with open(os.path.join(base_path, fname), 'r') as f:\n",
    "        tape = ENDFtk.Tape(f.read())\n",
    "    \n",
    "    # check for Files 31-36\n",
    "    matl = tape.materials[0]\n",
    "    for mf in range(31,37):\n",
    "        if matl.hasFileNumber(mf):\n",
    "            results.append(fname)\n",
    "            break"
   ]
  },
  {
   "cell_type": "markdown",
   "metadata": {},
   "source": [
    "Check for how many evaluations have covariance data.  Print a few of them."
   ]
  },
  {
   "cell_type": "code",
   "execution_count": 9,
   "metadata": {},
   "outputs": [
    {
     "name": "stdout",
     "output_type": "stream",
     "text": [
      "251 evaluations in ENDF/B-VIII.0 have at least some covariance data.\n",
      "    n-090_Th_231.endf\n",
      "    n-082_Pb_206.endf\n",
      "    n-081_Tl_204.endf\n",
      "    n-091_Pa_232.endf\n",
      "    n-018_Ar_041.endf\n"
     ]
    }
   ],
   "source": [
    "print( '%i evaluations in ENDF/B-VIII.0 have at least some covariance data.' % len(results) )\n",
    "random.shuffle(results)\n",
    "for name in results[:5]:\n",
    "    print( '    ' + name )"
   ]
  }
 ],
 "metadata": {
  "kernelspec": {
   "display_name": "Python 3",
   "language": "python",
   "name": "python3"
  },
  "language_info": {
   "codemirror_mode": {
    "name": "ipython",
    "version": 3
   },
   "file_extension": ".py",
   "mimetype": "text/x-python",
   "name": "python",
   "nbconvert_exporter": "python",
   "pygments_lexer": "ipython3",
   "version": "3.7.5"
  }
 },
 "nbformat": 4,
 "nbformat_minor": 2
}
