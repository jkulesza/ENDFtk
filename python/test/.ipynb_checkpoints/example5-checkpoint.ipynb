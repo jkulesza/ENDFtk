{
 "cells": [
  {
   "cell_type": "markdown",
   "metadata": {},
   "source": [
    "## Example 5: Plot LAW=2 Angular Distribution"
   ]
  },
  {
   "cell_type": "markdown",
   "metadata": {},
   "source": [
    "Import ENDFtk along with other useful Python packages."
   ]
  },
  {
   "cell_type": "code",
   "execution_count": 1,
   "metadata": {},
   "outputs": [],
   "source": [
    "import matplotlib.pyplot as plt\n",
    "import numpy as np\n",
    "from numpy.polynomial.legendre import legval\n",
    "\n",
    "import ENDFtk\n",
    "import patch"
   ]
  },
  {
   "cell_type": "markdown",
   "metadata": {},
   "source": [
    "Read in ENDF file and parse a given section."
   ]
  },
  {
   "cell_type": "code",
   "execution_count": 2,
   "metadata": {},
   "outputs": [],
   "source": [
    "with open('li6.endf', 'r') as f:\n",
    "    tape = ENDFtk.Tape(f.read())\n",
    "section = tape.materials[0].MF(6).MT(105).parse(6)\n",
    "subsection = section.products[0].distribution.subsections[100]\n",
    "energy = subsection.data.energy\n",
    "coeffs = np.array( [1] + subsection.data.coefficients )"
   ]
  },
  {
   "cell_type": "markdown",
   "metadata": {},
   "source": [
    "Manipulate coefficients and convert to x,y data."
   ]
  },
  {
   "cell_type": "code",
   "execution_count": 3,
   "metadata": {},
   "outputs": [],
   "source": [
    "new_coeffs = (2*np.arange(subsection.NL+1) + 1) * coeffs / 2\n",
    "eval_x = np.linspace(-1, 1, 1000)\n",
    "eval_y = legval(eval_x, new_coeffs)"
   ]
  },
  {
   "cell_type": "markdown",
   "metadata": {},
   "source": [
    "Make up some \"experimental\" data and uncertainty on the evaluation."
   ]
  },
  {
   "cell_type": "code",
   "execution_count": 4,
   "metadata": {},
   "outputs": [],
   "source": [
    "data = np.array([[-.9, 0.5, .1], [-.1, 0.4, .08], [.6, 0.8, .15]])\n",
    "unc = eval_y*.05*(1.5-np.abs(eval_x))"
   ]
  },
  {
   "cell_type": "markdown",
   "metadata": {},
   "source": [
    "Plot experimental and evaluated data."
   ]
  },
  {
   "cell_type": "code",
   "execution_count": 6,
   "metadata": {},
   "outputs": [
    {
     "data": {
      "text/plain": [
       "Text(0.5, 1.0, 'Li-6 angular distribution, E=1.300e+06 eV')"
      ]
     },
     "execution_count": 6,
     "metadata": {},
     "output_type": "execute_result"
    },
    {
     "data": {
      "image/png": "[encoded data removed]",
      "text/plain": [
       "<Figure size 432x288 with 1 Axes>"
      ]
     },
     "metadata": {
      "needs_background": "light"
     },
     "output_type": "display_data"
    }
   ],
   "source": [
    "plt.plot(eval_x, eval_y, 'k', label='evaluated')\n",
    "plt.fill_between(eval_x, eval_y-unc, eval_y+unc, alpha=0.2,\n",
    "                 facecolor='k', label=r'$5\\sigma$ in eval')\n",
    "plt.errorbar(data[:,0], data[:,1], yerr=data[:,2], marker='s',\n",
    "             linewidth=0, elinewidth=1, mfc='white', color='k',\n",
    "             capsize=4, label='experiment')\n",
    "plt.ylim((0,1))\n",
    "plt.legend(loc=2)\n",
    "plt.xlabel(r'$\\mu$ (COM)')\n",
    "plt.ylabel(r'$p(\\mu)$')\n",
    "plt.title(\"Li-6 angular distribution, E=%.3e eV\" % energy)"
   ]
  },
  {
   "cell_type": "code",
   "execution_count": null,
   "metadata": {},
   "outputs": [],
   "source": []
  }
 ],
 "metadata": {
  "kernelspec": {
   "display_name": "Python 3",
   "language": "python",
   "name": "python3"
  },
  "language_info": {
   "codemirror_mode": {
    "name": "ipython",
    "version": 3
   },
   "file_extension": ".py",
   "mimetype": "text/x-python",
   "name": "python",
   "nbconvert_exporter": "python",
   "pygments_lexer": "ipython3",
   "version": "3.7.5"
  }
 },
 "nbformat": 4,
 "nbformat_minor": 2
}
